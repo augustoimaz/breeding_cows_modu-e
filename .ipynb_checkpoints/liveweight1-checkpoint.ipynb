{
 "cells": [
  {
   "cell_type": "code",
   "execution_count": null,
   "id": "988562ef",
   "metadata": {},
   "outputs": [],
   "source": [
    "import numpy as np"
   ]
  },
  {
   "cell_type": "code",
   "execution_count": 1,
   "id": "372f2aa9",
   "metadata": {},
   "outputs": [],
   "source": [
    "import matplotlib.pyplot as plt\n",
    "import matplotlib as mpl"
   ]
  },
  {
   "cell_type": "code",
   "execution_count": 2,
   "id": "10648bbf",
   "metadata": {},
   "outputs": [],
   "source": [
    "import seaborn as sns"
   ]
  },
  {
   "cell_type": "code",
   "execution_count": 3,
   "id": "f5c97d7c",
   "metadata": {},
   "outputs": [],
   "source": [
    "import pandas as pd\n",
    "from pandas.plotting import scatter_matrix"
   ]
  },
  {
   "cell_type": "code",
   "execution_count": 4,
   "id": "c8e1c3fb",
   "metadata": {},
   "outputs": [],
   "source": [
    "from scipy.interpolate import BSpline\n",
    "from scipy import interpolate\n",
    "import scipy as sp\n",
    "import scipy.stats as stats\n",
    "from scipy import stats\n",
    "from scipy.signal import savgol_filter"
   ]
  },
  {
   "cell_type": "code",
   "execution_count": 5,
   "id": "740513ee",
   "metadata": {},
   "outputs": [],
   "source": [
    "import plotly\n",
    "import plotly.express as px\n",
    "from plotly import __version__\n",
    "from plotly.offline import download_plotlyjs,init_notebook_mode,plot,iplot"
   ]
  },
  {
   "cell_type": "code",
   "execution_count": 6,
   "id": "5daa924c",
   "metadata": {},
   "outputs": [],
   "source": [
    "import researchpy as rp"
   ]
  },
  {
   "cell_type": "code",
   "execution_count": 7,
   "id": "d656f740",
   "metadata": {},
   "outputs": [],
   "source": [
    "import statsmodels.api as sm"
   ]
  },
  {
   "cell_type": "code",
   "execution_count": 8,
   "id": "86058f63",
   "metadata": {},
   "outputs": [],
   "source": [
    "# scikit-Learn provides a few functions to split datasets into multiple subsets\n",
    "from sklearn.model_selection import train_test_split\n",
    "from sklearn.linear_model import LinearRegression\n",
    "from sklearn.preprocessing import OrdinalEncoder\n",
    "ordinal_encoder = OrdinalEncoder()\n",
    "from sklearn.preprocessing import OneHotEncoder\n",
    "from sklearn.compose import ColumnTransformer\n",
    "from sklearn.preprocessing import StandardScaler\n",
    "from sklearn.decomposition import PCA\n",
    "from sklearn.model_selection import GridSearchCV\n",
    "from sklearn.model_selection import StratifiedShuffleSplit\n",
    "from sklearn.linear_model import SGDRegressor\n",
    "from sklearn.metrics import mean_squared_error\n",
    "from sklearn.pipeline import Pipeline\n",
    "from sklearn.linear_model import Ridge\n",
    "from sklearn.linear_model import Lasso\n",
    "from sklearn.linear_model import ElasticNet\n",
    "from sklearn import datasets\n",
    "from sklearn.linear_model import LogisticRegression\n",
    "from sklearn.svm import LinearSVC\n",
    "from sklearn.preprocessing import PolynomialFeatures\n",
    "from sklearn.svm import SVC\n",
    "from sklearn.tree import DecisionTreeClassifier\n",
    "from sklearn.tree import export_graphviz\n",
    "from sklearn.model_selection import GridSearchCV\n",
    "from scipy.interpolate import splrep, BSpline\n",
    "from sklearn.ensemble import RandomForestClassifier\n",
    "from sklearn.ensemble import VotingClassifier\n",
    "from sklearn.ensemble import BaggingClassifier\n",
    "from sklearn.metrics import accuracy_score"
   ]
  },
  {
   "cell_type": "code",
   "execution_count": 9,
   "id": "e6a55850",
   "metadata": {},
   "outputs": [],
   "source": [
    "# Install Statsmodels\n",
    "# Adapted from https://www.statsmodels.org/stable/examples/notebooks/generated/mixed_lm_example.html\n",
    "# Load packages\n",
    "import statsmodels.api as sm\n",
    "import statsmodels.formula.api as smf\n",
    "from statsmodels.tools.sm_exceptions import ConvergenceWarning\n",
    "from statsmodels.stats.diagnostic import het_white"
   ]
  },
  {
   "cell_type": "code",
   "execution_count": 10,
   "id": "5d029f2d",
   "metadata": {},
   "outputs": [],
   "source": [
    "import cufflinks as cf\n",
    "import cufflinks as cf"
   ]
  },
  {
   "cell_type": "code",
   "execution_count": 11,
   "id": "8fd67200",
   "metadata": {},
   "outputs": [
    {
     "data": {
      "text/html": [
       "        <script type=\"text/javascript\">\n",
       "        window.PlotlyConfig = {MathJaxConfig: 'local'};\n",
       "        if (window.MathJax && window.MathJax.Hub && window.MathJax.Hub.Config) {window.MathJax.Hub.Config({SVG: {font: \"STIX-Web\"}});}\n",
       "        if (typeof require !== 'undefined') {\n",
       "        require.undef(\"plotly\");\n",
       "        requirejs.config({\n",
       "            paths: {\n",
       "                'plotly': ['https://cdn.plot.ly/plotly-2.16.1.min']\n",
       "            }\n",
       "        });\n",
       "        require(['plotly'], function(Plotly) {\n",
       "            window._Plotly = Plotly;\n",
       "        });\n",
       "        }\n",
       "        </script>\n",
       "        "
      ]
     },
     "metadata": {},
     "output_type": "display_data"
    }
   ],
   "source": [
    "pd.plotting.register_matplotlib_converters()\n",
    "pd.set_option('display.max_rows', 500)\n",
    "pd.set_option('display.max_columns', 500)\n",
    "mpl.rcParams['figure.figsize'] = (8, 6)\n",
    "sns.set(color_codes=True)\n",
    "cf.go_offline()"
   ]
  },
  {
   "cell_type": "code",
   "execution_count": null,
   "id": "8c6dbd52",
   "metadata": {},
   "outputs": [],
   "source": [
    "from pingouin import corr"
   ]
  },
  {
   "cell_type": "code",
   "execution_count": null,
   "id": "5e3662c9",
   "metadata": {},
   "outputs": [],
   "source": [
    "import saspy"
   ]
  },
  {
   "cell_type": "code",
   "execution_count": null,
   "id": "aa1d3f46",
   "metadata": {},
   "outputs": [],
   "source": [
    "import pyodbc"
   ]
  },
  {
   "cell_type": "code",
   "execution_count": null,
   "id": "f15408ed",
   "metadata": {},
   "outputs": [],
   "source": [
    "# import sources from SQL\n",
    "import pymysql\n",
    "import pandas as pd\n",
    "\n",
    "# data path\n",
    "db_name = \"body1\" # database created in SQL\n",
    "db_host = \"localhost\"\n",
    "db_username = \"root\" # default is root\n",
    "db_password = \"SYDlife1\"\n",
    "\n",
    "# Connect to the database\n",
    "try:\n",
    "    conn=pymysql.connect(host=db_host,\n",
    "                          port=int(3306),\n",
    "                          user='root',\n",
    "                          passwd=db_password,\n",
    "                          db=db_name)\n",
    "except e:\n",
    "    print(e)\n",
    "\n",
    "if conn:\n",
    "    print(\"OK\")\n",
    "else:\n",
    "    print(\"Error\")\n",
    "\n",
    "# database from SQL\n",
    "df1 = pd.read_sql_query(\"SELECT * FROM body2\", conn)"
   ]
  },
  {
   "cell_type": "code",
   "execution_count": null,
   "id": "58b3b5c6",
   "metadata": {},
   "outputs": [],
   "source": [
    "df1.head(5)"
   ]
  },
  {
   "cell_type": "code",
   "execution_count": null,
   "id": "17189451",
   "metadata": {},
   "outputs": [],
   "source": [
    "df1.shape"
   ]
  },
  {
   "cell_type": "code",
   "execution_count": null,
   "id": "3d998dda",
   "metadata": {},
   "outputs": [],
   "source": [
    "df1.columns"
   ]
  },
  {
   "cell_type": "code",
   "execution_count": null,
   "id": "c12b83f4",
   "metadata": {},
   "outputs": [],
   "source": [
    "df1.info()"
   ]
  },
  {
   "cell_type": "raw",
   "id": "1597f69d",
   "metadata": {},
   "source": [
    "sas = saspy.SASsession(java='C:\\\\Program Files (x86)\\\\Java\\\\jre1.8.0_221\\\\bin\\\\java.exe', iomhost = ['odaws01-apse1.oda.sas.com','odaws02-apse1.oda.sas.com'], iomport=8591, encoding='utf-8')\n",
    "sas"
   ]
  },
  {
   "cell_type": "code",
   "execution_count": null,
   "id": "04edc4da",
   "metadata": {},
   "outputs": [],
   "source": []
  },
  {
   "cell_type": "markdown",
   "id": "5d66172c",
   "metadata": {},
   "source": [
    "### Beef cattle, Weaners from JAI thesis (Liveweight data and animal list)"
   ]
  },
  {
   "cell_type": "code",
   "execution_count": 12,
   "id": "b1263584",
   "metadata": {
    "scrolled": true
   },
   "outputs": [],
   "source": [
    "# importing raw data from weight sensor (animal identification, date, time, weight)\n",
    "df1 = pd.read_excel (r'C:\\Users\\augus\\Desktop\\github_repositories\\databases\\mothering up\\1_Pye_136_WOW.xlsx')"
   ]
  },
  {
   "cell_type": "code",
   "execution_count": 13,
   "id": "0a51203b",
   "metadata": {},
   "outputs": [
    {
     "name": "stdout",
     "output_type": "stream",
     "text": [
      "<class 'pandas.core.frame.DataFrame'>\n",
      "RangeIndex: 345131 entries, 0 to 345130\n",
      "Data columns (total 8 columns):\n",
      " #   Column    Non-Null Count   Dtype         \n",
      "---  ------    --------------   -----         \n",
      " 0   NroObs    345131 non-null  int64         \n",
      " 1   File      345131 non-null  object        \n",
      " 2   FID       30680 non-null   object        \n",
      " 3   Weight    343051 non-null  float64       \n",
      " 4   Date      330303 non-null  datetime64[ns]\n",
      " 5   Time      330194 non-null  object        \n",
      " 6   DateTime  330194 non-null  datetime64[ns]\n",
      " 7   EID       121369 non-null  object        \n",
      "dtypes: datetime64[ns](2), float64(1), int64(1), object(4)\n",
      "memory usage: 21.1+ MB\n"
     ]
    }
   ],
   "source": [
    "df1.info()"
   ]
  },
  {
   "cell_type": "code",
   "execution_count": 14,
   "id": "fa5093ba",
   "metadata": {},
   "outputs": [
    {
     "data": {
      "text/plain": [
       "(345131, 8)"
      ]
     },
     "execution_count": 14,
     "metadata": {},
     "output_type": "execute_result"
    }
   ],
   "source": [
    "df1.shape"
   ]
  },
  {
   "cell_type": "code",
   "execution_count": 15,
   "id": "2648ac42",
   "metadata": {},
   "outputs": [
    {
     "data": {
      "text/plain": [
       "NroObs           0\n",
       "File             0\n",
       "FID         314451\n",
       "Weight        2080\n",
       "Date         14828\n",
       "Time         14937\n",
       "DateTime     14937\n",
       "EID         223762\n",
       "dtype: int64"
      ]
     },
     "execution_count": 15,
     "metadata": {},
     "output_type": "execute_result"
    }
   ],
   "source": [
    "df1.isnull().sum()"
   ]
  },
  {
   "cell_type": "code",
   "execution_count": 16,
   "id": "d717f082",
   "metadata": {},
   "outputs": [
    {
     "data": {
      "text/plain": [
       "0"
      ]
     },
     "execution_count": 16,
     "metadata": {},
     "output_type": "execute_result"
    }
   ],
   "source": [
    "df1.duplicated().sum()"
   ]
  },
  {
   "cell_type": "code",
   "execution_count": 17,
   "id": "c2cb39f1",
   "metadata": {},
   "outputs": [
    {
     "data": {
      "text/html": [
       "<div>\n",
       "<style scoped>\n",
       "    .dataframe tbody tr th:only-of-type {\n",
       "        vertical-align: middle;\n",
       "    }\n",
       "\n",
       "    .dataframe tbody tr th {\n",
       "        vertical-align: top;\n",
       "    }\n",
       "\n",
       "    .dataframe thead th {\n",
       "        text-align: right;\n",
       "    }\n",
       "</style>\n",
       "<table border=\"1\" class=\"dataframe\">\n",
       "  <thead>\n",
       "    <tr style=\"text-align: right;\">\n",
       "      <th></th>\n",
       "      <th>NroObs</th>\n",
       "      <th>File</th>\n",
       "      <th>FID</th>\n",
       "      <th>Weight</th>\n",
       "      <th>Date</th>\n",
       "      <th>Time</th>\n",
       "      <th>DateTime</th>\n",
       "      <th>EID</th>\n",
       "    </tr>\n",
       "  </thead>\n",
       "  <tbody>\n",
       "    <tr>\n",
       "      <th>0</th>\n",
       "      <td>1</td>\n",
       "      <td>1-a7-TET27</td>\n",
       "      <td>NaN</td>\n",
       "      <td>129.0</td>\n",
       "      <td>2014-06-26</td>\n",
       "      <td>NaN</td>\n",
       "      <td>NaT</td>\n",
       "      <td>982 000192622265</td>\n",
       "    </tr>\n",
       "    <tr>\n",
       "      <th>1</th>\n",
       "      <td>2</td>\n",
       "      <td>1-a7-TET27</td>\n",
       "      <td>NaN</td>\n",
       "      <td>130.0</td>\n",
       "      <td>2014-06-26</td>\n",
       "      <td>NaN</td>\n",
       "      <td>NaT</td>\n",
       "      <td>982 000192621913</td>\n",
       "    </tr>\n",
       "  </tbody>\n",
       "</table>\n",
       "</div>"
      ],
      "text/plain": [
       "   NroObs        File  FID  Weight       Date Time DateTime               EID\n",
       "0       1  1-a7-TET27  NaN   129.0 2014-06-26  NaN      NaT  982 000192622265\n",
       "1       2  1-a7-TET27  NaN   130.0 2014-06-26  NaN      NaT  982 000192621913"
      ]
     },
     "execution_count": 17,
     "metadata": {},
     "output_type": "execute_result"
    }
   ],
   "source": [
    "df1.head(2)"
   ]
  },
  {
   "cell_type": "code",
   "execution_count": 18,
   "id": "cc628244",
   "metadata": {},
   "outputs": [],
   "source": [
    "df1 = df1.drop(['File', 'NroObs', 'FID'], axis= 1)"
   ]
  },
  {
   "cell_type": "code",
   "execution_count": 19,
   "id": "10ecef54",
   "metadata": {},
   "outputs": [
    {
     "data": {
      "text/html": [
       "<div>\n",
       "<style scoped>\n",
       "    .dataframe tbody tr th:only-of-type {\n",
       "        vertical-align: middle;\n",
       "    }\n",
       "\n",
       "    .dataframe tbody tr th {\n",
       "        vertical-align: top;\n",
       "    }\n",
       "\n",
       "    .dataframe thead th {\n",
       "        text-align: right;\n",
       "    }\n",
       "</style>\n",
       "<table border=\"1\" class=\"dataframe\">\n",
       "  <thead>\n",
       "    <tr style=\"text-align: right;\">\n",
       "      <th></th>\n",
       "      <th>Weight</th>\n",
       "    </tr>\n",
       "  </thead>\n",
       "  <tbody>\n",
       "    <tr>\n",
       "      <th>count</th>\n",
       "      <td>343051.000000</td>\n",
       "    </tr>\n",
       "    <tr>\n",
       "      <th>mean</th>\n",
       "      <td>273.334425</td>\n",
       "    </tr>\n",
       "    <tr>\n",
       "      <th>std</th>\n",
       "      <td>320.466804</td>\n",
       "    </tr>\n",
       "    <tr>\n",
       "      <th>min</th>\n",
       "      <td>0.000000</td>\n",
       "    </tr>\n",
       "    <tr>\n",
       "      <th>25%</th>\n",
       "      <td>4.000000</td>\n",
       "    </tr>\n",
       "    <tr>\n",
       "      <th>50%</th>\n",
       "      <td>6.500000</td>\n",
       "    </tr>\n",
       "    <tr>\n",
       "      <th>75%</th>\n",
       "      <td>622.000000</td>\n",
       "    </tr>\n",
       "    <tr>\n",
       "      <th>max</th>\n",
       "      <td>1360.000000</td>\n",
       "    </tr>\n",
       "  </tbody>\n",
       "</table>\n",
       "</div>"
      ],
      "text/plain": [
       "              Weight\n",
       "count  343051.000000\n",
       "mean      273.334425\n",
       "std       320.466804\n",
       "min         0.000000\n",
       "25%         4.000000\n",
       "50%         6.500000\n",
       "75%       622.000000\n",
       "max      1360.000000"
      ]
     },
     "execution_count": 19,
     "metadata": {},
     "output_type": "execute_result"
    }
   ],
   "source": [
    "df1.describe()"
   ]
  },
  {
   "cell_type": "code",
   "execution_count": 20,
   "id": "283ee64b",
   "metadata": {},
   "outputs": [],
   "source": [
    "#sns.scatterplot(data=rawdata, x=\"datetime\", y=\"weight\")"
   ]
  },
  {
   "cell_type": "code",
   "execution_count": 21,
   "id": "ba96d330",
   "metadata": {},
   "outputs": [],
   "source": [
    "#rawdata2= rawdata.drop(['date', 'time'], axis= 1)"
   ]
  },
  {
   "cell_type": "code",
   "execution_count": 22,
   "id": "f4a715a4",
   "metadata": {},
   "outputs": [],
   "source": [
    "# VID data from static weighing\n",
    "df2 = pd.read_excel (r'C:\\Users\\augus\\Desktop\\github_repositories\\databases\\mothering up\\6_PyeFarm_AnimalList1.xlsx')"
   ]
  },
  {
   "cell_type": "code",
   "execution_count": 23,
   "id": "1b8a3c72",
   "metadata": {},
   "outputs": [
    {
     "name": "stdout",
     "output_type": "stream",
     "text": [
      "<class 'pandas.core.frame.DataFrame'>\n",
      "RangeIndex: 364 entries, 0 to 363\n",
      "Data columns (total 6 columns):\n",
      " #   Column            Non-Null Count  Dtype \n",
      "---  ------            --------------  ----- \n",
      " 0   EID               361 non-null    object\n",
      " 1   FID               364 non-null    object\n",
      " 2   category_list     364 non-null    object\n",
      " 3   subcategory_list  364 non-null    object\n",
      " 4   location_list     364 non-null    object\n",
      " 5   sex               364 non-null    object\n",
      "dtypes: object(6)\n",
      "memory usage: 17.2+ KB\n"
     ]
    }
   ],
   "source": [
    "df2.info()"
   ]
  },
  {
   "cell_type": "code",
   "execution_count": 24,
   "id": "6b900443",
   "metadata": {},
   "outputs": [
    {
     "data": {
      "text/plain": [
       "Index(['EID', 'FID', 'category_list', 'subcategory_list', 'location_list',\n",
       "       'sex'],\n",
       "      dtype='object')"
      ]
     },
     "execution_count": 24,
     "metadata": {},
     "output_type": "execute_result"
    }
   ],
   "source": [
    "df2.columns"
   ]
  },
  {
   "cell_type": "code",
   "execution_count": 25,
   "id": "68846890",
   "metadata": {},
   "outputs": [],
   "source": [
    "# ids.info()"
   ]
  },
  {
   "cell_type": "code",
   "execution_count": 26,
   "id": "137fb609",
   "metadata": {},
   "outputs": [],
   "source": [
    "# df2 = df2.drop(['eliminated','eliminated','eliminated'], axis= 1)"
   ]
  },
  {
   "cell_type": "code",
   "execution_count": 27,
   "id": "77de0efd",
   "metadata": {},
   "outputs": [],
   "source": [
    "# rename columns\n",
    "# ids1.rename(columns={'EID': 'eid', 'VID': 'vid'},inplace=True)"
   ]
  },
  {
   "cell_type": "code",
   "execution_count": 29,
   "id": "cea93681",
   "metadata": {
    "scrolled": true
   },
   "outputs": [],
   "source": [
    "# merging rawdata + identification animals\"\n",
    "df3 = df1.merge(df2,on='EID')"
   ]
  },
  {
   "cell_type": "code",
   "execution_count": 30,
   "id": "4b58bb15",
   "metadata": {},
   "outputs": [],
   "source": [
    "df3[\"obs_num\"] = df3.reset_index"
   ]
  },
  {
   "cell_type": "code",
   "execution_count": null,
   "id": "bee07bc1",
   "metadata": {},
   "outputs": [],
   "source": [
    "df3.head(5)"
   ]
  },
  {
   "cell_type": "code",
   "execution_count": null,
   "id": "dcf56298",
   "metadata": {},
   "outputs": [],
   "source": []
  },
  {
   "cell_type": "code",
   "execution_count": null,
   "id": "a5dd7f1d",
   "metadata": {},
   "outputs": [],
   "source": [
    "df3.info()"
   ]
  },
  {
   "cell_type": "code",
   "execution_count": null,
   "id": "c57809f1",
   "metadata": {},
   "outputs": [],
   "source": [
    "df3.head(5)"
   ]
  },
  {
   "cell_type": "code",
   "execution_count": null,
   "id": "d486e466",
   "metadata": {},
   "outputs": [],
   "source": []
  },
  {
   "cell_type": "code",
   "execution_count": null,
   "id": "7c4ea58b",
   "metadata": {},
   "outputs": [],
   "source": [
    "# Create new columns for the lagged values of EID and SEX\n",
    "df3['LAG1EID'] = df3['EID'].shift(1)\n",
    "df3['LAG2EID'] = df3['EID'].shift(2)\n",
    "df3['LAG3EID'] = df3['EID'].shift(3)\n",
    "df3['LAG4EID'] = df3['EID'].shift(4)\n",
    "df3['LAG5EID'] = df3['EID'].shift(5)\n",
    "df3['LAG6EID'] = df3['EID'].shift(6)\n",
    "df3['LAG1SEX'] = df3['sex'].shift(1)"
   ]
  },
  {
   "cell_type": "code",
   "execution_count": null,
   "id": "8a19d274",
   "metadata": {},
   "outputs": [],
   "source": [
    "df3.head(50)"
   ]
  },
  {
   "cell_type": "code",
   "execution_count": null,
   "id": "2aec6286",
   "metadata": {},
   "outputs": [],
   "source": []
  },
  {
   "cell_type": "code",
   "execution_count": null,
   "id": "d40f9628",
   "metadata": {},
   "outputs": [],
   "source": []
  },
  {
   "cell_type": "code",
   "execution_count": null,
   "id": "ac24ce20",
   "metadata": {},
   "outputs": [],
   "source": []
  },
  {
   "cell_type": "code",
   "execution_count": null,
   "id": "5e171365",
   "metadata": {},
   "outputs": [],
   "source": []
  },
  {
   "cell_type": "code",
   "execution_count": null,
   "id": "42845139",
   "metadata": {},
   "outputs": [],
   "source": []
  },
  {
   "cell_type": "code",
   "execution_count": null,
   "id": "3842292e",
   "metadata": {},
   "outputs": [],
   "source": []
  },
  {
   "cell_type": "code",
   "execution_count": null,
   "id": "ce4b8592",
   "metadata": {},
   "outputs": [],
   "source": []
  },
  {
   "cell_type": "code",
   "execution_count": null,
   "id": "4df81802",
   "metadata": {},
   "outputs": [],
   "source": []
  },
  {
   "cell_type": "code",
   "execution_count": null,
   "id": "2661b5a6",
   "metadata": {},
   "outputs": [],
   "source": []
  },
  {
   "cell_type": "code",
   "execution_count": null,
   "id": "0aaabed9",
   "metadata": {},
   "outputs": [],
   "source": []
  },
  {
   "cell_type": "code",
   "execution_count": null,
   "id": "e9daf367",
   "metadata": {},
   "outputs": [],
   "source": []
  },
  {
   "cell_type": "code",
   "execution_count": null,
   "id": "62b001e3",
   "metadata": {},
   "outputs": [],
   "source": []
  },
  {
   "cell_type": "code",
   "execution_count": null,
   "id": "e3e21e9b",
   "metadata": {},
   "outputs": [],
   "source": []
  },
  {
   "cell_type": "code",
   "execution_count": null,
   "id": "e5819c0a",
   "metadata": {},
   "outputs": [],
   "source": []
  },
  {
   "cell_type": "code",
   "execution_count": null,
   "id": "4a6e49a0",
   "metadata": {},
   "outputs": [],
   "source": []
  },
  {
   "cell_type": "code",
   "execution_count": null,
   "id": "6f4cef78",
   "metadata": {},
   "outputs": [],
   "source": []
  },
  {
   "cell_type": "code",
   "execution_count": null,
   "id": "059e6115",
   "metadata": {},
   "outputs": [],
   "source": []
  },
  {
   "cell_type": "code",
   "execution_count": null,
   "id": "fe163687",
   "metadata": {},
   "outputs": [],
   "source": []
  },
  {
   "cell_type": "code",
   "execution_count": null,
   "id": "b15ab4a3",
   "metadata": {},
   "outputs": [],
   "source": []
  },
  {
   "cell_type": "code",
   "execution_count": null,
   "id": "6d71ed94",
   "metadata": {},
   "outputs": [],
   "source": []
  },
  {
   "cell_type": "code",
   "execution_count": null,
   "id": "0f39db69",
   "metadata": {},
   "outputs": [],
   "source": [
    "rawdata3= rawdata3.drop(['describe'], axis= 1)"
   ]
  },
  {
   "cell_type": "code",
   "execution_count": null,
   "id": "3d206219",
   "metadata": {},
   "outputs": [],
   "source": [
    "rawdata3.columns"
   ]
  },
  {
   "cell_type": "code",
   "execution_count": null,
   "id": "9c25b300",
   "metadata": {},
   "outputs": [],
   "source": [
    "rawdata3.describe()"
   ]
  },
  {
   "cell_type": "code",
   "execution_count": null,
   "id": "b830e213",
   "metadata": {},
   "outputs": [],
   "source": [
    "# Convert the date and time columns to strings\n",
    "rawdata3[\"date\"] = rawdata3[\"date\"].astype(str)\n",
    "rawdata3[\"time\"] = rawdata3[\"time\"].astype(str)"
   ]
  },
  {
   "cell_type": "code",
   "execution_count": null,
   "id": "d191e3fc",
   "metadata": {},
   "outputs": [],
   "source": [
    "# Combine the date and time columns into a single string\n",
    "rawdata3[\"datetime\"] = rawdata3[\"date\"] + \" \" + rawdata3[\"time\"]"
   ]
  },
  {
   "cell_type": "code",
   "execution_count": null,
   "id": "dab37f18",
   "metadata": {},
   "outputs": [],
   "source": [
    "# Convert the datetime string to a datetime object\n",
    "rawdata3[\"datetime\"] = pd.to_datetime(rawdata3[\"datetime\"], format=\"%Y-%m-%d %H:%M:%S\")"
   ]
  },
  {
   "cell_type": "code",
   "execution_count": null,
   "id": "3835727a",
   "metadata": {},
   "outputs": [],
   "source": [
    "# extracting date and time from datetime and add as columns\n",
    "# rawdata3[\"time\"]=rawdata2[\"datetime\"].dt.time\n",
    "# rawdata3[\"date\"]=rawdata2[\"datetime\"].dt.date"
   ]
  },
  {
   "cell_type": "code",
   "execution_count": null,
   "id": "b54134a3",
   "metadata": {},
   "outputs": [],
   "source": [
    "# print missing values > rawdata3 merged without deleting missing values\n",
    "rawdata3_missing= rawdata3[rawdata3.isna().any(axis=1)]"
   ]
  },
  {
   "cell_type": "code",
   "execution_count": null,
   "id": "d194ef31",
   "metadata": {},
   "outputs": [],
   "source": [
    "# delete missing values with no visual ID, date and weight values available\n",
    "rawdata4=rawdata3.dropna(subset=[\"weight\", \"vid\", \"date\", \"time\"]) # delete all raws with missing values"
   ]
  },
  {
   "cell_type": "code",
   "execution_count": null,
   "id": "c21b2af7",
   "metadata": {},
   "outputs": [],
   "source": [
    "## first delete of outliers, no biological values\n",
    "rawdata5=rawdata4.drop(rawdata4[(rawdata4.weight>1500) | (rawdata4.weight<1)].index)"
   ]
  },
  {
   "cell_type": "code",
   "execution_count": null,
   "id": "666c5ff9",
   "metadata": {},
   "outputs": [],
   "source": [
    "rawdata5.head(2)"
   ]
  },
  {
   "cell_type": "code",
   "execution_count": null,
   "id": "eed16c75",
   "metadata": {},
   "outputs": [],
   "source": [
    "rawdata5.describe()"
   ]
  },
  {
   "cell_type": "code",
   "execution_count": null,
   "id": "3cd04e78",
   "metadata": {},
   "outputs": [],
   "source": [
    "# deleting based on categorical variables\n",
    "# rawdata5_1=rawdata4.drop(rawdata4[(rawdata4.weight>400) | (rawdata4.weight<200) | (rawdata4.cat1=='male')].index)"
   ]
  },
  {
   "cell_type": "code",
   "execution_count": null,
   "id": "ad9996f7",
   "metadata": {},
   "outputs": [],
   "source": [
    "# sns.scatterplot(data=rawdata5, x=\"datetime\", y=\"weight\")"
   ]
  },
  {
   "cell_type": "code",
   "execution_count": null,
   "id": "1f7d1d36",
   "metadata": {},
   "outputs": [],
   "source": [
    "# rp.summary_cont(rawdata4.groupby([\"cat1\", \"cat2\"])[\"weight\"])"
   ]
  },
  {
   "cell_type": "code",
   "execution_count": null,
   "id": "2be8a409",
   "metadata": {},
   "outputs": [],
   "source": [
    "# only operations based with numbers if, else, if\n",
    "# rawdata5_1['weight_test'] = [weight/100 if weight<150 else weight/200 for weight in rawdata5_1.weight]"
   ]
  },
  {
   "cell_type": "code",
   "execution_count": null,
   "id": "2a1541c0",
   "metadata": {},
   "outputs": [],
   "source": [
    "# only operations based with numbers if, else, if (categorical classification)\n",
    "# rawdata5_['weight_test1']= [\"OK\" if weight<350 else \"review\" for weight in rawdata5_1.weight]"
   ]
  },
  {
   "cell_type": "code",
   "execution_count": null,
   "id": "5b8828c9",
   "metadata": {},
   "outputs": [],
   "source": [
    "# create a new column based on condition, option\n",
    "# rawdata5_1['weight_test2']= np.where(rawdata5_1['cat1'] == 'male', True, False)"
   ]
  },
  {
   "cell_type": "code",
   "execution_count": null,
   "id": "84ac3285",
   "metadata": {},
   "outputs": [],
   "source": [
    "# create a new column based on condition, option\n",
    "# rawdata5_1['weight_test3']= [True if a >= 300 else False for a in rawdata5_1['weight']]"
   ]
  },
  {
   "cell_type": "code",
   "execution_count": null,
   "id": "5486be5f",
   "metadata": {},
   "outputs": [],
   "source": [
    "# rawdata5_1.head(5)"
   ]
  },
  {
   "cell_type": "markdown",
   "id": "e09487b4",
   "metadata": {},
   "source": [
    "## first smoothing "
   ]
  },
  {
   "cell_type": "code",
   "execution_count": null,
   "id": "3de71848",
   "metadata": {},
   "outputs": [],
   "source": [
    "# sort rawdata5 by vid, MUST be sorted BEFORE\n",
    "smoothing1= rawdata5.sort_values([\"vid\", \"datetime\"],  ascending= True)"
   ]
  },
  {
   "cell_type": "code",
   "execution_count": null,
   "id": "057fa054",
   "metadata": {},
   "outputs": [],
   "source": [
    "# add observation number by vid to smooth the data\n",
    "smoothing1['n']= smoothing1.groupby(['vid']).cumcount()+1 "
   ]
  },
  {
   "cell_type": "code",
   "execution_count": null,
   "id": "8413a418",
   "metadata": {},
   "outputs": [],
   "source": [
    "smoothing1.head(2)"
   ]
  },
  {
   "cell_type": "raw",
   "id": "631e2f91",
   "metadata": {},
   "source": [
    "# data ready for smoothing\n",
    "smoothing1.to_excel(r'C:\\Users\\augus\\Desktop\\github_repositories\\body_weight\\report outputs\\smoothing1.xlsx', sheet_name='sheet1', index = False)"
   ]
  },
  {
   "cell_type": "code",
   "execution_count": null,
   "id": "77bfa2fe",
   "metadata": {},
   "outputs": [],
   "source": [
    "vid = smoothing1['vid'].unique()"
   ]
  },
  {
   "cell_type": "code",
   "execution_count": null,
   "id": "c98b6b02",
   "metadata": {
    "scrolled": true
   },
   "outputs": [],
   "source": [
    "graph= sns.FacetGrid(smoothing1, col='vid')\n",
    "graph= graph.map(sns.scatterplot, 'n', 'weight', s=25, alpha=.5)"
   ]
  },
  {
   "cell_type": "code",
   "execution_count": null,
   "id": "27d0f28f",
   "metadata": {},
   "outputs": [],
   "source": [
    "smoothing1_1= smoothing1[smoothing1.vid == \"JBP354\"]"
   ]
  },
  {
   "cell_type": "code",
   "execution_count": null,
   "id": "b4c4f049",
   "metadata": {},
   "outputs": [],
   "source": [
    "plt.plot(smoothing1_1.n, smoothing1_1.weight,'ro', label=\"original\")"
   ]
  },
  {
   "cell_type": "code",
   "execution_count": null,
   "id": "72a0ec4b",
   "metadata": {},
   "outputs": [],
   "source": [
    "plt.plot(smoothing1_1.datetime, smoothing1_1.weight,'ro', label=\"original\")"
   ]
  },
  {
   "cell_type": "code",
   "execution_count": null,
   "id": "ce1b3425",
   "metadata": {},
   "outputs": [],
   "source": [
    "import numpy as np\n",
    "from sklearn.model_selection import GridSearchCV\n",
    "from scipy.interpolate import splrep, BSpline"
   ]
  },
  {
   "cell_type": "code",
   "execution_count": null,
   "id": "e02ced24",
   "metadata": {},
   "outputs": [],
   "source": [
    "xy = smoothing1_1"
   ]
  },
  {
   "cell_type": "code",
   "execution_count": null,
   "id": "10238114",
   "metadata": {},
   "outputs": [],
   "source": [
    "# Load the data into a NumPy array\n",
    "data = xy.values"
   ]
  },
  {
   "cell_type": "code",
   "execution_count": null,
   "id": "29f03e8b",
   "metadata": {},
   "outputs": [],
   "source": [
    "# Extract the year and weight columns\n",
    "X = data[:, 8]  # Year\n",
    "y = data[:, 7]  # Weight\n",
    "\n",
    "# Define a custom spline fitting function using splrep\n",
    "class SplineFitter:\n",
    "    def __init__(self, s=1000):\n",
    "        self.s = s\n",
    "    \n",
    "    def fit(self, X, y):\n",
    "        self.tck = splrep(X, y, s=self.s, k=3)\n",
    "        return self\n",
    "    \n",
    "    def score(self, X, y):\n",
    "        y_pred = BSpline(*self.tck)(X)\n",
    "        y_mean = y.mean()\n",
    "        ss_tot = ((y - y_mean) ** 2).sum()\n",
    "        ss_res = ((y - y_pred) ** 2).sum()\n",
    "        return 1 - ss_res / ss_tot\n",
    "\n",
    "# Create the grid search object\n",
    "grid_search = GridSearchCV(estimator=SplineFitter(), param_grid={\"s\": s_values}, cv=5)\n",
    "\n",
    "# Fit the grid search object to the data\n",
    "grid_search.fit(X, y)\n",
    "\n",
    "# Print the best value for the smoothing parameter\n",
    "print(\"Best value for s:\", grid_search.best_params_[\"s\"])\n",
    "\n",
    "# Calculate the spline parameters using the best value for the smoothing parameter\n",
    "tck = splrep(X, y, s=grid_search.best_params_[\"s\"], k=3)\n",
    "\n",
    "# Generate a new set of year values for prediction\n",
    "X_pred = np.linspace(X.min(), X.max(), num=100)\n",
    "\n",
    "# Use the spline to make predictions for the new year values\n",
    "y_pred = BSpline(*tck)(X_pred)\n",
    "\n",
    "# Output the results to a CSV file\n",
    "output = np.column_stack((X_pred, y_pred))\n",
    "np.savetxt(\"predictions.csv\", output, delimiter=\",\", header=\"Year,Weight\", comments=\"\")\n"
   ]
  },
  {
   "cell_type": "code",
   "execution_count": null,
   "id": "3df8c766",
   "metadata": {},
   "outputs": [],
   "source": [
    "y"
   ]
  },
  {
   "cell_type": "code",
   "execution_count": null,
   "id": "783f4ed0",
   "metadata": {},
   "outputs": [],
   "source": []
  },
  {
   "cell_type": "code",
   "execution_count": null,
   "id": "77bde959",
   "metadata": {},
   "outputs": [],
   "source": []
  },
  {
   "cell_type": "code",
   "execution_count": null,
   "id": "42733ab6",
   "metadata": {},
   "outputs": [],
   "source": []
  },
  {
   "cell_type": "code",
   "execution_count": null,
   "id": "a5577733",
   "metadata": {},
   "outputs": [],
   "source": []
  },
  {
   "cell_type": "code",
   "execution_count": null,
   "id": "7e735444",
   "metadata": {},
   "outputs": [],
   "source": []
  },
  {
   "cell_type": "code",
   "execution_count": null,
   "id": "c947b6d0",
   "metadata": {},
   "outputs": [],
   "source": []
  },
  {
   "cell_type": "code",
   "execution_count": null,
   "id": "fa205ca9",
   "metadata": {},
   "outputs": [],
   "source": []
  },
  {
   "cell_type": "code",
   "execution_count": null,
   "id": "a74b3f6d",
   "metadata": {},
   "outputs": [],
   "source": []
  },
  {
   "cell_type": "code",
   "execution_count": null,
   "id": "3bbff192",
   "metadata": {},
   "outputs": [],
   "source": []
  },
  {
   "cell_type": "code",
   "execution_count": null,
   "id": "26fe3f9d",
   "metadata": {},
   "outputs": [],
   "source": [
    "## smoothing 1\n",
    "# original data set\n",
    "\n",
    "xy = smoothing1_1\n",
    "\n",
    "# setting parameters\n",
    "xy[\"y1\"] = xy.weight # values (weight)\n",
    "n1 = len(xy.weight) # count the number of values\n",
    "xy[\"x1\"] = range(0, n1) # range between n\n",
    "\n",
    "# smoothing parameters\n",
    "s = 30000 # smoothing parameter\n",
    "num = len(xy.weight) # number of knots\n",
    "k = 3 # degree of spline\n",
    "\n",
    "# calculates parameters for the BSplines\n",
    "tck = interpolate.splrep(xy.x1, xy.y1, s=s, k=k)\n",
    "x1_new = np.linspace(min(xy.x1), max(xy.x1), num=num)\n",
    "y1_fit = interpolate.BSpline(*tck)(x1_new)\n",
    "\n",
    "# BSplined data\n",
    "xy1 = np.stack((x1_new, y1_fit), axis=1) # merging numpy dataframes\n",
    "# xy1 = xy1.round(0) # rounding x1 and weights # include if adding manually number of knots num = change\n",
    "xy1 = pd.DataFrame(xy1, columns = ['x1','Pweight']) # convert numpy to pandas\n",
    "xy2 = xy.merge(xy1, on=['x1'], how=\"left\") # predicted weight from 100 evenly distributed knots and data splined\n",
    "\n",
    "# interpolations when number of knots are noy equal to len(smooth_test.weight)\n",
    "xy2['Pweight_1'] = xy2['Pweight'].interpolate(method = 'polynomial', order=1)\n",
    "xy2['Pweight_2'] = xy2['Pweight'].interpolate(method = 'polynomial', order=2)\n",
    "xy2['Pweight_3'] = xy2['Pweight'].interpolate(method = 'polynomial', order=3)\n",
    "xy2['Pweight_near'] = xy2['Pweight'].interpolate(method = 'nearest')\n",
    "\n",
    "# residuals\n",
    "xy2[\"R1\"] = (xy2.weight)-(xy2.Pweight_1)\n",
    "xy2[\"R2\"] = (xy2.weight)-(xy2.Pweight_2)\n",
    "xy2[\"R3\"] = (xy2.weight)-(xy2.Pweight_3)\n",
    "xy2[\"R_near\"] = (xy2.weight)-(xy2.Pweight_near)\n",
    "\n",
    "# deviations\n",
    "xy2[\"R1_std\"] = xy2['R1'].std()\n",
    "xy2[\"R2_std\"] = xy2['R2'].std()\n",
    "xy2[\"R3_std\"] = xy2['R3'].std()\n",
    "xy2[\"R_near_std\"] = xy2['R_near'].std()\n",
    "\n",
    "# deleting weights\n",
    "xy2[\"Pweight_up\"] = xy2['Pweight_3'] + (1.5*(xy2[\"R3_std\"]))\n",
    "xy2[\"Pweight_down\"] = xy2['Pweight_3'] - (1.5*(xy2[\"R3_std\"]))\n",
    "\n",
    "# plot\n",
    "plt.title(\"Smoothing BSpline and interpolated with different methods\")\n",
    "plt.plot(xy2.x1, xy2.weight, 'ro', label=\"original\")\n",
    "plt.plot(xy2.x1, xy2.Pweight_3, label=\"predicted weight\", color=\"black\")\n",
    "plt.plot(xy2.x1, xy2.Pweight_up, label=\"upper limit\", color=\"black\")\n",
    "plt.plot(xy2.x1, xy2.Pweight_down, label=\"lower limit\", color=\"black\")\n",
    "\n",
    "plt.legend(loc='best', fancybox=True, shadow=True)\n",
    "plt.grid()\n",
    "plt.show()"
   ]
  },
  {
   "cell_type": "code",
   "execution_count": null,
   "id": "270cc55f",
   "metadata": {},
   "outputs": [],
   "source": [
    "## data cleaning first smoothing\n",
    "xy3 = xy2[(xy2['weight'] < xy2['Pweight_up']) & (xy2['weight'] > xy2['Pweight_down'])]"
   ]
  },
  {
   "cell_type": "code",
   "execution_count": null,
   "id": "444dda55",
   "metadata": {},
   "outputs": [],
   "source": [
    "# plot data cleaning first smoothing\n",
    "plt.title(\"Smoothing BSpline and interpolated with different methods\")\n",
    "plt.plot(xy3.x1, xy3.weight, 'ro', label=\"original\")\n",
    "plt.plot(xy3.x1, xy3.Pweight_3, label=\"predicted weight\", color=\"black\")\n",
    "plt.plot(xy3.x1, xy3.Pweight_up, label=\"upper limit\", color=\"black\")\n",
    "plt.plot(xy3.x1, xy3.Pweight_down, label=\"lower limit\", color=\"black\")\n",
    "\n",
    "plt.legend(loc='best', fancybox=True, shadow=True)\n",
    "plt.grid()\n",
    "plt.show()"
   ]
  },
  {
   "cell_type": "code",
   "execution_count": null,
   "id": "ca5b7350",
   "metadata": {},
   "outputs": [],
   "source": [
    "## smoothing 2\n",
    "\n",
    "# original data set this step\n",
    "xy = xy3[['weight', 'date', 'datetime', 'time', 'eid', 'vid', 'n']]\n",
    "\n",
    "# setting parameters\n",
    "xy[\"y1\"] = xy.weight # values (weight)\n",
    "n1 = len(xy.weight) # count the number of values\n",
    "xy[\"x1\"] = range(0, n1) # range between n\n",
    "\n",
    "# smoothing parameters\n",
    "s = 15000 # smoothing parameter\n",
    "num = len(xy.weight) # number of knots\n",
    "k = 3 # degree of spline\n",
    "\n",
    "# calculates parameters for the BSplines\n",
    "tck = interpolate.splrep(xy.x1, xy.y1, s=s, k=k)\n",
    "x1_new = np.linspace(min(xy.x1), max(xy.x1), num=num)\n",
    "y1_fit = interpolate.BSpline(*tck)(x1_new)\n",
    "\n",
    "# BSplined data\n",
    "xy1 = np.stack((x1_new, y1_fit), axis=1) # merging numpy dataframes\n",
    "# xy1 = xy1.round(0) # rounding x1 and weights # include if adding manually number of knots num = change\n",
    "xy1 = pd.DataFrame(xy1, columns = ['x1','Pweight']) # convert numpy to pandas\n",
    "xy2 = xy.merge(xy1, on=['x1'], how=\"left\") # predicted weight from 100 evenly distributed knots and data splined\n",
    "\n",
    "# interpolations when number of knots are noy equal to len(smooth_test.weight)\n",
    "xy2['Pweight_1'] = xy2['Pweight'].interpolate(method = 'polynomial', order=1)\n",
    "xy2['Pweight_2'] = xy2['Pweight'].interpolate(method = 'polynomial', order=2)\n",
    "xy2['Pweight_3'] = xy2['Pweight'].interpolate(method = 'polynomial', order=3)\n",
    "xy2['Pweight_near'] = xy2['Pweight'].interpolate(method = 'nearest')\n",
    "\n",
    "# residuals\n",
    "xy2[\"R1\"] = (xy2.weight)-(xy2.Pweight_1)\n",
    "xy2[\"R2\"] = (xy2.weight)-(xy2.Pweight_2)\n",
    "xy2[\"R3\"] = (xy2.weight)-(xy2.Pweight_3)\n",
    "xy2[\"R_near\"] = (xy2.weight)-(xy2.Pweight_near)\n",
    "\n",
    "# deviations\n",
    "xy2[\"R1_std\"] = xy2['R1'].std()\n",
    "xy2[\"R2_std\"] = xy2['R2'].std()\n",
    "xy2[\"R3_std\"] = xy2['R3'].std()\n",
    "xy2[\"R_near_std\"] = xy2['R_near'].std()\n",
    "\n",
    "# deleting weights\n",
    "xy2[\"Pweight_up\"] = xy2['Pweight_3'] + (1.5*(xy2[\"R3_std\"]))\n",
    "xy2[\"Pweight_down\"] = xy2['Pweight_3'] - (1.5*(xy2[\"R3_std\"]))\n",
    "\n",
    "# plot\n",
    "plt.title(\"Smoothing BSpline and interpolated with different methods\")\n",
    "plt.plot(xy2.x1, xy2.weight, 'ro', label=\"original\")\n",
    "plt.plot(xy2.x1, xy2.Pweight_3, label=\"cubic\", color=\"black\")\n",
    "plt.plot(xy2.x1, xy2.Pweight_up, label=\"cubic\", color=\"black\")\n",
    "plt.plot(xy2.x1, xy2.Pweight_down, label=\"cubic\", color=\"black\")\n",
    "\n",
    "plt.legend(loc='best', fancybox=True, shadow=True)\n",
    "plt.grid()\n",
    "plt.show()"
   ]
  },
  {
   "cell_type": "code",
   "execution_count": null,
   "id": "acc12acb",
   "metadata": {},
   "outputs": [],
   "source": [
    "## data cleaning second smoothing\n",
    "xy3 = xy2[(xy2['weight'] < xy2['Pweight_up']) & (xy2['weight'] > xy2['Pweight_down'])]"
   ]
  },
  {
   "cell_type": "code",
   "execution_count": null,
   "id": "f9760cb0",
   "metadata": {},
   "outputs": [],
   "source": [
    "# plot data cleaning second smoothing\n",
    "plt.title(\"Smoothing BSpline and interpolated with different methods\")\n",
    "plt.plot(xy3.x1, xy3.weight, 'ro', label=\"original\")\n",
    "plt.plot(xy3.x1, xy3.Pweight_3, label=\"predicted weight\", color=\"black\")\n",
    "plt.plot(xy3.x1, xy3.Pweight_up, label=\"upper limit\", color=\"black\")\n",
    "plt.plot(xy3.x1, xy3.Pweight_down, label=\"lower limit\", color=\"black\")\n",
    "\n",
    "plt.legend(loc='best', fancybox=True, shadow=True)\n",
    "plt.grid()\n",
    "plt.show()"
   ]
  },
  {
   "cell_type": "code",
   "execution_count": null,
   "id": "51150cfd",
   "metadata": {},
   "outputs": [],
   "source": [
    "## smoothing 3\n",
    "\n",
    "# original data set this step\n",
    "xy = xy3[['weight', 'date', 'datetime', 'time', 'eid', 'vid', 'n']]\n",
    "\n",
    "# setting parameters\n",
    "xy[\"y1\"] = xy.weight # values (weight)\n",
    "n1 = len(xy.weight) # count the number of values\n",
    "xy[\"x1\"] = range(0, n1) # range between n\n",
    "\n",
    "# smoothing parameters\n",
    "s = 7500 # smoothing parameter\n",
    "num = len(xy.weight) # number of knots\n",
    "k = 3 # degree of spline\n",
    "\n",
    "# calculates parameters for the BSplines\n",
    "tck = interpolate.splrep(xy.x1, xy.y1, s=s, k=k)\n",
    "x1_new = np.linspace(min(xy.x1), max(xy.x1), num=num)\n",
    "y1_fit = interpolate.BSpline(*tck)(x1_new)\n",
    "\n",
    "# BSplined data\n",
    "xy1 = np.stack((x1_new, y1_fit), axis=1) # merging numpy dataframes\n",
    "# xy1 = xy1.round(0) # rounding x1 and weights # include if adding manually number of knots num = change\n",
    "xy1 = pd.DataFrame(xy1, columns = ['x1','Pweight']) # convert numpy to pandas\n",
    "xy2 = xy.merge(xy1, on=['x1'], how=\"left\") # predicted weight from 100 evenly distributed knots and data splined\n",
    "\n",
    "# interpolations when number of knots are noy equal to len(smooth_test.weight)\n",
    "xy2['Pweight_1'] = xy2['Pweight'].interpolate(method = 'polynomial', order=1)\n",
    "xy2['Pweight_2'] = xy2['Pweight'].interpolate(method = 'polynomial', order=2)\n",
    "xy2['Pweight_3'] = xy2['Pweight'].interpolate(method = 'polynomial', order=3)\n",
    "xy2['Pweight_near'] = xy2['Pweight'].interpolate(method = 'nearest')\n",
    "\n",
    "# residuals\n",
    "xy2[\"R1\"] = (xy2.weight)-(xy2.Pweight_1)\n",
    "xy2[\"R2\"] = (xy2.weight)-(xy2.Pweight_2)\n",
    "xy2[\"R3\"] = (xy2.weight)-(xy2.Pweight_3)\n",
    "xy2[\"R_near\"] = (xy2.weight)-(xy2.Pweight_near)\n",
    "\n",
    "# deviations\n",
    "xy2[\"R1_std\"] = xy2['R1'].std()\n",
    "xy2[\"R2_std\"] = xy2['R2'].std()\n",
    "xy2[\"R3_std\"] = xy2['R3'].std()\n",
    "xy2[\"R_near_std\"] = xy2['R_near'].std()\n",
    "\n",
    "# deleting weights\n",
    "xy2[\"Pweight_up\"] = xy2['Pweight_3'] + (1.5*(xy2[\"R3_std\"]))\n",
    "xy2[\"Pweight_down\"] = xy2['Pweight_3'] - (1.5*(xy2[\"R3_std\"]))\n",
    "\n",
    "# plot\n",
    "plt.title(\"Smoothing BSpline and interpolated with different methods\")\n",
    "plt.plot(xy2.x1, xy2.weight, 'ro', label=\"original\")\n",
    "plt.plot(xy2.x1, xy2.Pweight_3, label=\"cubic\", color=\"black\")\n",
    "plt.plot(xy2.x1, xy2.Pweight_up, label=\"cubic\", color=\"black\")\n",
    "plt.plot(xy2.x1, xy2.Pweight_down, label=\"cubic\", color=\"black\")\n",
    "\n",
    "plt.legend(loc='best', fancybox=True, shadow=True)\n",
    "plt.grid()\n",
    "plt.show()"
   ]
  },
  {
   "cell_type": "code",
   "execution_count": null,
   "id": "5252680a",
   "metadata": {},
   "outputs": [],
   "source": [
    "## data cleaning third smoothing\n",
    "xy3 = xy2[(xy2['weight'] < xy2['Pweight_up']) & (xy2['weight'] > xy2['Pweight_down'])]"
   ]
  },
  {
   "cell_type": "code",
   "execution_count": null,
   "id": "91f05169",
   "metadata": {},
   "outputs": [],
   "source": [
    "# plot data cleaning third smoothing\n",
    "plt.title(\"Smoothing BSpline and interpolated with different methods\")\n",
    "plt.plot(xy3.x1, xy3.weight, 'ro', label=\"original\")\n",
    "plt.plot(xy3.x1, xy3.Pweight_3, label=\"predicted weight\", color=\"black\")\n",
    "plt.plot(xy3.x1, xy3.Pweight_up, label=\"upper limit\", color=\"black\")\n",
    "plt.plot(xy3.x1, xy3.Pweight_down, label=\"lower limit\", color=\"black\")\n",
    "\n",
    "plt.legend(loc='best', fancybox=True, shadow=True)\n",
    "plt.grid()\n",
    "plt.show()"
   ]
  },
  {
   "cell_type": "code",
   "execution_count": null,
   "id": "4d3c7146",
   "metadata": {},
   "outputs": [],
   "source": [
    "# original data set this step\n",
    "xy = xy3[['weight', 'datetime', 'eid', 'vid', 'n', 'Pweight_3']]"
   ]
  },
  {
   "cell_type": "markdown",
   "id": "b44538b6",
   "metadata": {},
   "source": [
    "# XY raw database after smoothing with weights and predicted weights "
   ]
  },
  {
   "cell_type": "code",
   "execution_count": null,
   "id": "e240740d",
   "metadata": {},
   "outputs": [],
   "source": [
    "xy['date'] = pd.to_datetime(xy['datetime']).dt.date\n",
    "xy['date'] = pd.to_datetime(xy['date'])\n",
    "xy.head(2)"
   ]
  },
  {
   "cell_type": "code",
   "execution_count": null,
   "id": "aa4a30c1",
   "metadata": {},
   "outputs": [],
   "source": [
    "xy_daily_prep = xy[['weight', 'Pweight_3', 'date', 'eid', 'vid']]\n",
    "xy_daily_prep.head(2)"
   ]
  },
  {
   "cell_type": "code",
   "execution_count": null,
   "id": "361d1ea4",
   "metadata": {},
   "outputs": [],
   "source": [
    "# averaging weights and predicted weights per day, format datetime and calculate growth rate\n",
    "\n",
    "xy_daily = xy_daily_prep.groupby(['date', 'eid', 'vid']).agg({'weight': ['mean', 'count'], 'Pweight_3': ['mean', 'count']})\n",
    "xy_daily.columns = ['daily_weight', 'weight_count','daily_Pweight', 'Pweight_count']\n",
    "xy_daily = xy_daily.reset_index()\n",
    "\n",
    "xy_daily[\"diff_time\"] = xy_daily[\"date\"].diff() # delta date and weight\n",
    "xy_daily[\"diff_Pweight\"] = xy_daily[\"daily_Pweight\"].diff() # delta date and weight\n",
    "\n",
    "oneday = pd.Timedelta(days=1)\n",
    "xy_daily['diff_time_norm'] = (xy_daily['diff_time']/oneday)\n",
    "\n",
    "xy_daily['growth_rate'] = (xy_daily.diff_Pweight/xy_daily.diff_time_norm)\n",
    "\n",
    "xy_daily.head(2)"
   ]
  },
  {
   "cell_type": "code",
   "execution_count": null,
   "id": "d4b4b41c",
   "metadata": {},
   "outputs": [],
   "source": [
    "# completing dates in between (missing dates) keeping predicted weights and growth rates without interpolating\n",
    "date_range = pd.date_range(min(xy_daily.date), max(xy_daily.date))\n",
    "\n",
    "date_range = date_range.to_frame(name='date', )\n",
    "\n",
    "xy_daily_filled = date_range.merge(xy_daily, on=['date'], how=\"left\")\n",
    "\n",
    "# interpolations between values\n",
    "xy_daily_filled['int_Pweight3'] = xy_daily_filled['daily_Pweight'].interpolate(method = 'polynomial', order=3)\n",
    "xy_daily_filled['int_daily_weight'] = xy_daily_filled['daily_weight'].interpolate(method = 'polynomial', order=3)\n",
    "xy_daily_filled['vid'] = xy_daily_filled['vid'].fillna(method=\"ffill\", downcast=\"infer\")\n",
    "xy_daily_filled['vid'] = xy_daily_filled['vid'].fillna(method=\"bfill\", downcast=\"infer\")\n",
    "xy_daily_filled['eid'] = xy_daily_filled['eid'].fillna(method=\"ffill\", downcast=\"infer\")\n",
    "xy_daily_filled['eid'] = xy_daily_filled['eid'].fillna(method=\"bfill\", downcast=\"infer\")\n",
    "\n",
    "xy_daily_filled['int_growth_rate'] = xy_daily_filled[\"int_Pweight3\"].diff()\n",
    "\n",
    "xy_daily_final = xy_daily_filled[['date', 'eid', 'vid', 'daily_weight', 'weight_count', 'daily_Pweight', 'growth_rate', 'int_Pweight3', 'int_daily_weight', 'int_growth_rate']]"
   ]
  },
  {
   "cell_type": "code",
   "execution_count": null,
   "id": "f07c9ac9",
   "metadata": {},
   "outputs": [],
   "source": [
    "xy_daily_final.head(5)"
   ]
  },
  {
   "cell_type": "code",
   "execution_count": null,
   "id": "8dc2489a",
   "metadata": {},
   "outputs": [],
   "source": [
    "# plot data cleaning third smoothing\n",
    "plt.title(\"Smoothing BSpline and interpolated with different methods\")\n",
    "\n",
    "plt.plot(xy_daily_final.date, xy_daily_final.daily_Pweight, 'ro', label=\"original\")\n",
    "plt.plot(xy_daily_final.date, xy_daily_final.int_Pweight3, label=\"predicted\", color=\"black\")\n",
    "\n",
    "plt.legend(loc='best', fancybox=True, shadow=True)\n",
    "plt.grid()\n",
    "plt.show()"
   ]
  },
  {
   "cell_type": "code",
   "execution_count": null,
   "id": "0630a52d",
   "metadata": {},
   "outputs": [],
   "source": []
  },
  {
   "cell_type": "code",
   "execution_count": null,
   "id": "d175b3ca",
   "metadata": {},
   "outputs": [],
   "source": []
  },
  {
   "cell_type": "code",
   "execution_count": null,
   "id": "7d3751d5",
   "metadata": {},
   "outputs": [],
   "source": []
  },
  {
   "cell_type": "code",
   "execution_count": null,
   "id": "71549a3f",
   "metadata": {},
   "outputs": [],
   "source": []
  },
  {
   "cell_type": "code",
   "execution_count": null,
   "id": "84da7041",
   "metadata": {},
   "outputs": [],
   "source": []
  },
  {
   "cell_type": "code",
   "execution_count": null,
   "id": "1fa83cbc",
   "metadata": {},
   "outputs": [],
   "source": []
  },
  {
   "cell_type": "code",
   "execution_count": null,
   "id": "f0963b86",
   "metadata": {},
   "outputs": [],
   "source": []
  },
  {
   "cell_type": "code",
   "execution_count": null,
   "id": "e1e34912",
   "metadata": {},
   "outputs": [],
   "source": []
  },
  {
   "cell_type": "code",
   "execution_count": null,
   "id": "7c566441",
   "metadata": {},
   "outputs": [],
   "source": []
  },
  {
   "cell_type": "code",
   "execution_count": null,
   "id": "1583fadf",
   "metadata": {},
   "outputs": [],
   "source": []
  },
  {
   "cell_type": "code",
   "execution_count": null,
   "id": "ad5df3ca",
   "metadata": {},
   "outputs": [],
   "source": []
  },
  {
   "cell_type": "code",
   "execution_count": null,
   "id": "e26001bd",
   "metadata": {},
   "outputs": [],
   "source": []
  },
  {
   "cell_type": "code",
   "execution_count": null,
   "id": "779faee7",
   "metadata": {},
   "outputs": [],
   "source": []
  },
  {
   "cell_type": "code",
   "execution_count": null,
   "id": "1ba9dcaa",
   "metadata": {},
   "outputs": [],
   "source": []
  },
  {
   "cell_type": "code",
   "execution_count": null,
   "id": "ebcc5ab5",
   "metadata": {},
   "outputs": [],
   "source": []
  },
  {
   "cell_type": "code",
   "execution_count": null,
   "id": "fc42cf05",
   "metadata": {},
   "outputs": [],
   "source": []
  },
  {
   "cell_type": "code",
   "execution_count": null,
   "id": "1fb308f1",
   "metadata": {},
   "outputs": [],
   "source": []
  },
  {
   "cell_type": "code",
   "execution_count": null,
   "id": "daf673be",
   "metadata": {},
   "outputs": [],
   "source": []
  },
  {
   "cell_type": "code",
   "execution_count": null,
   "id": "78ce90e4",
   "metadata": {},
   "outputs": [],
   "source": []
  },
  {
   "cell_type": "code",
   "execution_count": null,
   "id": "737df470",
   "metadata": {},
   "outputs": [],
   "source": []
  },
  {
   "cell_type": "code",
   "execution_count": null,
   "id": "ad465a17",
   "metadata": {},
   "outputs": [],
   "source": []
  },
  {
   "cell_type": "code",
   "execution_count": null,
   "id": "c6eda419",
   "metadata": {},
   "outputs": [],
   "source": []
  },
  {
   "cell_type": "code",
   "execution_count": null,
   "id": "a6b9a6a2",
   "metadata": {},
   "outputs": [],
   "source": []
  },
  {
   "cell_type": "code",
   "execution_count": null,
   "id": "35fba528",
   "metadata": {},
   "outputs": [],
   "source": []
  },
  {
   "cell_type": "markdown",
   "id": "ac72fda6",
   "metadata": {},
   "source": [
    "# report"
   ]
  },
  {
   "cell_type": "raw",
   "id": "fa02cba9",
   "metadata": {},
   "source": [
    "# exporting raw data with visual identification\n",
    "rawdata3.to_excel(r'C:\\Users\\Augusto Imaz\\Google Drive\\github\\body_weight\\report outputs\\rawdata3.xlsx', sheet_name='output', index = False)"
   ]
  },
  {
   "cell_type": "markdown",
   "id": "d8d6fa65",
   "metadata": {},
   "source": [
    "## weight records from rawdata"
   ]
  },
  {
   "cell_type": "code",
   "execution_count": null,
   "id": "dee526f0",
   "metadata": {},
   "outputs": [],
   "source": [
    "rawdata.isnull().sum()"
   ]
  },
  {
   "cell_type": "code",
   "execution_count": null,
   "id": "64626244",
   "metadata": {},
   "outputs": [],
   "source": [
    "rawdata.duplicated().sum()"
   ]
  },
  {
   "cell_type": "code",
   "execution_count": null,
   "id": "06106057",
   "metadata": {},
   "outputs": [],
   "source": [
    "rawdata.describe()"
   ]
  },
  {
   "cell_type": "code",
   "execution_count": null,
   "id": "ff727595",
   "metadata": {},
   "outputs": [],
   "source": [
    "ids1.shape"
   ]
  },
  {
   "cell_type": "code",
   "execution_count": null,
   "id": "8c96a523",
   "metadata": {},
   "outputs": [],
   "source": [
    "ids1.isnull().sum()"
   ]
  },
  {
   "cell_type": "markdown",
   "id": "676cd564",
   "metadata": {},
   "source": [
    "ids1.describe"
   ]
  },
  {
   "cell_type": "code",
   "execution_count": null,
   "id": "befbf564",
   "metadata": {},
   "outputs": [],
   "source": [
    "# rawdata3 resulting of merging VID and raw weights"
   ]
  },
  {
   "cell_type": "code",
   "execution_count": null,
   "id": "f32f4721",
   "metadata": {},
   "outputs": [],
   "source": [
    "rawdata3.shape"
   ]
  },
  {
   "cell_type": "code",
   "execution_count": null,
   "id": "1b786638",
   "metadata": {},
   "outputs": [],
   "source": [
    "rawdata3.isnull().sum()"
   ]
  },
  {
   "cell_type": "code",
   "execution_count": null,
   "id": "24835110",
   "metadata": {},
   "outputs": [],
   "source": [
    "rawdata3.describe()"
   ]
  },
  {
   "cell_type": "raw",
   "id": "f009c8af",
   "metadata": {},
   "source": []
  },
  {
   "cell_type": "raw",
   "id": "c264f9f6",
   "metadata": {},
   "source": []
  },
  {
   "cell_type": "code",
   "execution_count": null,
   "id": "7412e6af",
   "metadata": {},
   "outputs": [],
   "source": []
  },
  {
   "cell_type": "code",
   "execution_count": null,
   "id": "e4093431",
   "metadata": {},
   "outputs": [],
   "source": []
  },
  {
   "cell_type": "code",
   "execution_count": null,
   "id": "2cb6a7ce",
   "metadata": {},
   "outputs": [],
   "source": [
    "# descriptive statistics at group level\"\n",
    "sns.displot(rawdata3, x=\"weight\")\n",
    "plt.title(\"distribution of weight records from rawdata\")\n",
    "plt.xlabel(\"weight,kg\")\n",
    "plt.ylabel(\"number of records\")"
   ]
  },
  {
   "cell_type": "code",
   "execution_count": null,
   "id": "bed882ef",
   "metadata": {},
   "outputs": [],
   "source": [
    "plt.scatter(rawdata3.datetime, rawdata3.weight)\n",
    "plt.title(\"weight records from rawdata\")\n",
    "plt.xlabel(\"date\")\n",
    "plt.ylabel(\"weight,kg\")"
   ]
  },
  {
   "cell_type": "markdown",
   "id": "d244c51d",
   "metadata": {},
   "source": [
    "## missing values"
   ]
  },
  {
   "cell_type": "code",
   "execution_count": null,
   "id": "bc083d97",
   "metadata": {},
   "outputs": [],
   "source": [
    "rawdata3.shape"
   ]
  },
  {
   "cell_type": "code",
   "execution_count": null,
   "id": "17ef65be",
   "metadata": {},
   "outputs": [],
   "source": [
    "rawdata3_missing.shape"
   ]
  },
  {
   "cell_type": "code",
   "execution_count": null,
   "id": "94e61e9c",
   "metadata": {},
   "outputs": [],
   "source": [
    "rawdata4.shape"
   ]
  },
  {
   "cell_type": "code",
   "execution_count": null,
   "id": "c9f7232c",
   "metadata": {},
   "outputs": [],
   "source": [
    "rawdata3.isnull().sum()"
   ]
  },
  {
   "cell_type": "code",
   "execution_count": null,
   "id": "36ec4e20",
   "metadata": {},
   "outputs": [],
   "source": [
    "rawdata3_missing.head(3)"
   ]
  },
  {
   "cell_type": "raw",
   "id": "253754e8",
   "metadata": {},
   "source": [
    "# exporting raw data with visual identification\n",
    "rawdata3_missing.to_excel(r'C:\\Users\\Augusto Imaz\\Google Drive\\github\\body_weight\\report outputs\\missing_rawdata3.xlsx', sheet_name='output', index = False)"
   ]
  },
  {
   "cell_type": "markdown",
   "id": "3fe4c60b",
   "metadata": {},
   "source": [
    "## number of records from rawdata per individual animal"
   ]
  },
  {
   "cell_type": "code",
   "execution_count": null,
   "id": "f55bfa35",
   "metadata": {},
   "outputs": [],
   "source": [
    "rawdata_report=rawdata3.groupby(\"vid\").describe()\n",
    "rawdata_report.index.get_level_values(0)\n",
    "cols= ['weigth_count','weigth_mean','weigth_std','weigth_min','weigth_25','weigth_50','weigth_75','weigth_max']\n",
    "rawdata_report.set_axis(cols, axis=1,inplace=True)"
   ]
  },
  {
   "cell_type": "code",
   "execution_count": null,
   "id": "877e4c5d",
   "metadata": {},
   "outputs": [],
   "source": [
    "sns.displot(rawdata_report, x=\"weigth_count\")\n",
    "plt.xlabel(\"weight,kg\")\n",
    "plt.ylabel(\"frequency per individuals\")"
   ]
  },
  {
   "cell_type": "code",
   "execution_count": null,
   "id": "dfbddceb",
   "metadata": {},
   "outputs": [],
   "source": []
  },
  {
   "cell_type": "code",
   "execution_count": null,
   "id": "cfddd8ad",
   "metadata": {},
   "outputs": [],
   "source": []
  },
  {
   "cell_type": "code",
   "execution_count": null,
   "id": "3a7e1ae3",
   "metadata": {},
   "outputs": [],
   "source": []
  },
  {
   "cell_type": "code",
   "execution_count": null,
   "id": "df4b110d",
   "metadata": {},
   "outputs": [],
   "source": [
    "for object in collection_of_objects:\n",
    "    # code you want to execute on each object"
   ]
  },
  {
   "cell_type": "code",
   "execution_count": null,
   "id": "26df196e",
   "metadata": {},
   "outputs": [],
   "source": [
    "x = (10,20,30,40,50)\n",
    "for var in x:\n",
    "    print(\"index \"+ str(x.index(var)) + \":\",var)"
   ]
  },
  {
   "cell_type": "code",
   "execution_count": null,
   "id": "84315bd1",
   "metadata": {},
   "outputs": [],
   "source": [
    "x = [(1,2), (3,4), (5,6)]\n",
    "\n",
    "for a, b in x:\n",
    "    print(a, \"plus\", b, \"equals\", a+b)"
   ]
  },
  {
   "cell_type": "code",
   "execution_count": null,
   "id": "1c91e67c",
   "metadata": {},
   "outputs": [],
   "source": []
  },
  {
   "cell_type": "code",
   "execution_count": null,
   "id": "1a1bd1fe",
   "metadata": {},
   "outputs": [],
   "source": []
  },
  {
   "cell_type": "code",
   "execution_count": null,
   "id": "1610de30",
   "metadata": {},
   "outputs": [],
   "source": []
  },
  {
   "cell_type": "code",
   "execution_count": null,
   "id": "e5bacb99",
   "metadata": {},
   "outputs": [],
   "source": []
  }
 ],
 "metadata": {
  "kernelspec": {
   "display_name": "Python 3 (ipykernel)",
   "language": "python",
   "name": "python3"
  },
  "language_info": {
   "codemirror_mode": {
    "name": "ipython",
    "version": 3
   },
   "file_extension": ".py",
   "mimetype": "text/x-python",
   "name": "python",
   "nbconvert_exporter": "python",
   "pygments_lexer": "ipython3",
   "version": "3.10.5"
  }
 },
 "nbformat": 4,
 "nbformat_minor": 5
}
